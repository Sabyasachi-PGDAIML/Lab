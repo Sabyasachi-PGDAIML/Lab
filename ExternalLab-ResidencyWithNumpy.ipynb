{
 "cells": [
  {
   "cell_type": "code",
   "execution_count": 1,
   "metadata": {},
   "outputs": [],
   "source": [
    "import numpy as np\n",
    "import pandas as pd\n",
    "from sklearn.model_selection import train_test_split"
   ]
  },
  {
   "cell_type": "code",
   "execution_count": 2,
   "metadata": {},
   "outputs": [],
   "source": [
    "df = pd.read_csv('petrol.csv')"
   ]
  },
  {
   "cell_type": "code",
   "execution_count": 3,
   "metadata": {},
   "outputs": [],
   "source": [
    "Q1 = df.quantile(0.25)\n",
    "Q3 = df.quantile(0.75)\n",
    "IQR = Q3 - Q1\n",
    "df = df[(df > (Q1 - 1.5 * IQR)) & (df < (Q3 + 1.5 * IQR))]\n",
    "df.dropna(axis=0,inplace=True)"
   ]
  },
  {
   "cell_type": "code",
   "execution_count": 4,
   "metadata": {},
   "outputs": [],
   "source": [
    "def SingleDLinearRegression(x,y):\n",
    "    p1 = x.dot(x)\n",
    "    p2 = x.sum()\n",
    "    p3 = x.sum()\n",
    "    p4 = x.shape[0]\n",
    "    p5 = x.dot(y)\n",
    "    p6 = y.sum()\n",
    "    mat1 = [[p1,p2],[p3,p4]]\n",
    "    mat2 = [[p5],[p6]]\n",
    "    inv_mat1 = np.linalg.inv(mat1)\n",
    "    coffmat = inv_mat1.dot(mat2)\n",
    "    a= coffmat[0,0]\n",
    "    b = coffmat[1,0]\n",
    "    ymean = y - y.mean()\n",
    "    yhat = a*x+b\n",
    "    y_1 = y - yhat\n",
    "    r2 = 1 - ((y_1.dot(y_1))/(ymean.dot(ymean)))\n",
    "    return coffmat,r2\n",
    "    "
   ]
  },
  {
   "cell_type": "code",
   "execution_count": 5,
   "metadata": {},
   "outputs": [],
   "source": [
    "def MultiDLinearRegression(x,y):\n",
    "    x_x = x.T.dot(x)\n",
    "    x_y = x.T.dot(y)\n",
    "    invx_x = np.linalg.inv(x_x)\n",
    "    coffmat = invx_x.dot(x_y)\n",
    "    yhat = x.dot(coffmat)\n",
    "    ymean = y - y.mean()\n",
    "    y_1 = y - yhat\n",
    "    r2 = 1 - ((y_1.dot(y_1))/(ymean.dot(ymean)))\n",
    "    return coffmat,r2"
   ]
  },
  {
   "cell_type": "code",
   "execution_count": 6,
   "metadata": {},
   "outputs": [],
   "source": [
    "X = df[[\"tax\",\" income\",\" highway\",\" dl\"]]\n",
    "Y = df[[\" consumption\"]]\n",
    "x_train, x_test, y_train, y_test = train_test_split(X, Y, test_size=0.2, \n",
    "                                                    random_state=1)"
   ]
  },
  {
   "cell_type": "code",
   "execution_count": 7,
   "metadata": {},
   "outputs": [],
   "source": [
    "x_tax = x_train[[\"tax\"]]\n",
    "x_income = x_train[[\" income\"]]\n",
    "x_highway = x_train[[\" highway\"]]\n",
    "x_dl = x_train[[\" dl\"]]\n",
    "y_trainflat = y_train.values.flatten()\n",
    "x_tax = x_tax.values.T\n",
    "x_taxflat = x_tax.flatten()\n",
    "x_income = x_income.values.T\n",
    "x_incomeflat = x_income.flatten()\n",
    "x_highway = x_highway.values.T\n",
    "x_highwayflat = x_highway.flatten()\n",
    "x_dl = x_dl.values.T\n",
    "x_dlflat = x_dl.flatten()"
   ]
  },
  {
   "cell_type": "code",
   "execution_count": 8,
   "metadata": {},
   "outputs": [],
   "source": [
    "taxd,taxr2 = SingleDLinearRegression(x_taxflat,y_trainflat)"
   ]
  },
  {
   "cell_type": "code",
   "execution_count": 9,
   "metadata": {},
   "outputs": [
    {
     "name": "stdout",
     "output_type": "stream",
     "text": [
      "[[-48.35145299]\n",
      " [930.17367521]]\n",
      "0.2015013363098892\n"
     ]
    }
   ],
   "source": [
    "print(taxd)\n",
    "print(taxr2)"
   ]
  },
  {
   "cell_type": "code",
   "execution_count": 10,
   "metadata": {},
   "outputs": [],
   "source": [
    "incomed,incomer2 = SingleDLinearRegression(x_incomeflat,y_trainflat)"
   ]
  },
  {
   "cell_type": "code",
   "execution_count": 11,
   "metadata": {},
   "outputs": [
    {
     "name": "stdout",
     "output_type": "stream",
     "text": [
      "[[-4.06155080e-02]\n",
      " [ 7.30131164e+02]]\n",
      "0.07094959259830802\n"
     ]
    }
   ],
   "source": [
    "print(incomed)\n",
    "print(incomer2)"
   ]
  },
  {
   "cell_type": "code",
   "execution_count": 12,
   "metadata": {},
   "outputs": [],
   "source": [
    "highwayd,highwayr2 = SingleDLinearRegression(x_highwayflat,y_trainflat)"
   ]
  },
  {
   "cell_type": "code",
   "execution_count": 13,
   "metadata": {},
   "outputs": [
    {
     "name": "stdout",
     "output_type": "stream",
     "text": [
      "[[-2.26324371e-03]\n",
      " [ 5.70180075e+02]]\n",
      "0.005515527542538923\n"
     ]
    }
   ],
   "source": [
    "print(highwayd)\n",
    "print(highwayr2)"
   ]
  },
  {
   "cell_type": "code",
   "execution_count": 14,
   "metadata": {},
   "outputs": [],
   "source": [
    "dld,dlr2 = SingleDLinearRegression(x_dlflat,y_trainflat)"
   ]
  },
  {
   "cell_type": "code",
   "execution_count": 15,
   "metadata": {},
   "outputs": [
    {
     "name": "stdout",
     "output_type": "stream",
     "text": [
      "[[1036.11061885]\n",
      " [ -24.15241936]]\n",
      "0.39199458409851096\n"
     ]
    }
   ],
   "source": [
    "print(dld)\n",
    "print(dlr2)"
   ]
  },
  {
   "cell_type": "code",
   "execution_count": 52,
   "metadata": {},
   "outputs": [],
   "source": [
    "x_t =  x_train[[\"tax\",\" income\",\" highway\",\" dl\"]]"
   ]
  },
  {
   "cell_type": "code",
   "execution_count": 53,
   "metadata": {},
   "outputs": [
    {
     "data": {
      "text/plain": [
       "array([[1.0000e+00, 9.0000e+00, 4.8970e+03, 2.4490e+03, 5.1100e-01],\n",
       "       [1.0000e+00, 8.5000e+00, 4.5740e+03, 2.6190e+03, 5.5100e-01],\n",
       "       [1.0000e+00, 8.5000e+00, 3.6350e+03, 3.2740e+03, 6.6300e-01],\n",
       "       [1.0000e+00, 8.0000e+00, 3.0630e+03, 6.5240e+03, 5.7800e-01],\n",
       "       [1.0000e+00, 7.0000e+00, 4.4490e+03, 4.6390e+03, 6.2600e-01],\n",
       "       [1.0000e+00, 8.0000e+00, 3.5280e+03, 3.4950e+03, 4.8700e-01],\n",
       "       [1.0000e+00, 7.0000e+00, 3.8970e+03, 6.3850e+03, 5.8600e-01],\n",
       "       [1.0000e+00, 6.0000e+00, 5.2150e+03, 2.3020e+03, 6.7200e-01],\n",
       "       [1.0000e+00, 8.0000e+00, 4.3990e+03, 4.3100e+02, 5.4400e-01],\n",
       "       [1.0000e+00, 8.0000e+00, 3.4480e+03, 5.3990e+03, 5.4800e-01],\n",
       "       [1.0000e+00, 7.0000e+00, 4.2060e+03, 8.5080e+03, 5.7200e-01],\n",
       "       [1.0000e+00, 7.0000e+00, 4.8170e+03, 6.9300e+03, 5.7400e-01],\n",
       "       [1.0000e+00, 7.0000e+00, 3.7450e+03, 2.6110e+03, 5.0800e-01],\n",
       "       [1.0000e+00, 7.0000e+00, 3.6400e+03, 6.9050e+03, 5.1800e-01],\n",
       "       [1.0000e+00, 9.0000e+00, 3.6010e+03, 4.6500e+03, 4.9300e-01],\n",
       "       [1.0000e+00, 7.0000e+00, 5.0020e+03, 9.7940e+03, 5.9300e-01],\n",
       "       [1.0000e+00, 9.0000e+00, 4.2580e+03, 4.6860e+03, 5.1700e-01],\n",
       "       [1.0000e+00, 8.0000e+00, 4.9830e+03, 6.0200e+02, 6.0200e-01],\n",
       "       [1.0000e+00, 8.0000e+00, 4.1880e+03, 5.9750e+03, 5.6300e-01],\n",
       "       [1.0000e+00, 8.0000e+00, 5.1260e+03, 2.1380e+03, 5.5300e-01],\n",
       "       [1.0000e+00, 7.0000e+00, 3.3330e+03, 6.5940e+03, 5.1300e-01],\n",
       "       [1.0000e+00, 7.0000e+00, 4.3180e+03, 1.0340e+04, 5.8600e-01],\n",
       "       [1.0000e+00, 8.0000e+00, 4.4470e+03, 8.5770e+03, 5.2900e-01],\n",
       "       [1.0000e+00, 7.0000e+00, 4.2960e+03, 4.0830e+03, 6.2300e-01],\n",
       "       [1.0000e+00, 9.0000e+00, 4.0920e+03, 1.2500e+03, 5.7200e-01],\n",
       "       [1.0000e+00, 8.5000e+00, 4.3410e+03, 6.0100e+03, 6.7700e-01],\n",
       "       [1.0000e+00, 9.0000e+00, 3.5710e+03, 1.9760e+03, 5.2500e-01],\n",
       "       [1.0000e+00, 7.0000e+00, 3.7180e+03, 4.7250e+03, 5.4000e-01],\n",
       "       [1.0000e+00, 8.0000e+00, 5.3190e+03, 1.1868e+04, 4.5100e-01],\n",
       "       [1.0000e+00, 7.0000e+00, 4.2070e+03, 6.5800e+03, 5.4500e-01],\n",
       "       [1.0000e+00, 8.0000e+00, 4.3910e+03, 5.9390e+03, 5.3000e-01],\n",
       "       [1.0000e+00, 7.0000e+00, 4.5120e+03, 8.5070e+03, 5.5200e-01],\n",
       "       [1.0000e+00, 7.0000e+00, 4.3320e+03, 8.1590e+03, 6.0800e-01],\n",
       "       [1.0000e+00, 7.0000e+00, 4.3000e+03, 3.6350e+03, 6.0300e-01]])"
      ]
     },
     "execution_count": 53,
     "metadata": {},
     "output_type": "execute_result"
    }
   ],
   "source": [
    "x_tv = x_t.values\n",
    "x_tv.shape[0]\n",
    "ons = np.ones((x_tv.shape[0],1))\n",
    "x_tv = np.hstack((ons,x_tv))\n",
    "x_tv"
   ]
  },
  {
   "cell_type": "code",
   "execution_count": 54,
   "metadata": {},
   "outputs": [],
   "source": [
    "d,r2 = MultiDLinearRegression(x_tv,y_trainflat)"
   ]
  },
  {
   "cell_type": "code",
   "execution_count": 55,
   "metadata": {},
   "outputs": [
    {
     "name": "stdout",
     "output_type": "stream",
     "text": [
      "[ 6.07718909e+02 -3.94115836e+01 -6.26281401e-02 -3.02198704e-03\n",
      "  9.50882744e+02]\n",
      "0.6407622941321006\n"
     ]
    }
   ],
   "source": [
    "print(d)\n",
    "print(r2)"
   ]
  },
  {
   "cell_type": "code",
   "execution_count": 23,
   "metadata": {},
   "outputs": [],
   "source": [
    "X1=[]\n",
    "Y1=[]\n",
    "for r in open('data_2d.csv'):\n",
    "    x1,x2,y = r.split(',')\n",
    "    X1.append([1,float(x1),float(x2)])\n",
    "    Y1.append(float(y))\n",
    "\n",
    "X1 = np.array(X1)\n",
    "Y1 = np.array(Y1)"
   ]
  },
  {
   "cell_type": "code",
   "execution_count": 24,
   "metadata": {},
   "outputs": [],
   "source": [
    "d2,r22 = MultiDLinearRegression(X1,Y1)"
   ]
  },
  {
   "cell_type": "code",
   "execution_count": 25,
   "metadata": {},
   "outputs": [
    {
     "name": "stdout",
     "output_type": "stream",
     "text": [
      "[1.46191241 2.01666793 2.96985048]\n",
      "0.9980040612475777\n"
     ]
    }
   ],
   "source": [
    "print(d2)\n",
    "print(r22)"
   ]
  },
  {
   "cell_type": "code",
   "execution_count": null,
   "metadata": {},
   "outputs": [],
   "source": []
  }
 ],
 "metadata": {
  "kernelspec": {
   "display_name": "Python 3",
   "language": "python",
   "name": "python3"
  },
  "language_info": {
   "codemirror_mode": {
    "name": "ipython",
    "version": 3
   },
   "file_extension": ".py",
   "mimetype": "text/x-python",
   "name": "python",
   "nbconvert_exporter": "python",
   "pygments_lexer": "ipython3",
   "version": "3.6.4"
  }
 },
 "nbformat": 4,
 "nbformat_minor": 2
}
